{
 "cells": [
  {
   "cell_type": "code",
   "execution_count": 5,
   "metadata": {},
   "outputs": [],
   "source": [
    "#import Libraries\n",
    "import pandas as pd\n",
    "import numpy as np"
   ]
  },
  {
   "cell_type": "code",
   "execution_count": 6,
   "metadata": {},
   "outputs": [],
   "source": [
    "#get Csv Files\n",
    "School_data_load = \"PyCitySchools/Resources/schools_complete.csv\"\n",
    "Student_data_load = \"PyCitySchools/Resources/students_complete.csv\"\n",
    "\n",
    "School_data = pd.read_csv(School_data_load)\n",
    "Student_data = pd.read_csv(Student_data_load)\n"
   ]
  },
  {
   "cell_type": "code",
   "execution_count": 7,
   "metadata": {},
   "outputs": [
    {
     "data": {
      "text/plain": [
       "['Student ID',\n",
       " 'student_name',\n",
       " 'gender',\n",
       " 'grade',\n",
       " 'school_name',\n",
       " 'reading_score',\n",
       " 'math_score']"
      ]
     },
     "execution_count": 7,
     "metadata": {},
     "output_type": "execute_result"
    }
   ],
   "source": [
    "list(Student_data)"
   ]
  },
  {
   "cell_type": "code",
   "execution_count": 8,
   "metadata": {},
   "outputs": [
    {
     "data": {
      "text/plain": [
       "['School ID', 'school_name', 'type', 'size', 'budget']"
      ]
     },
     "execution_count": 8,
     "metadata": {},
     "output_type": "execute_result"
    }
   ],
   "source": [
    "#school headers\n",
    "list(School_data)"
   ]
  },
  {
   "cell_type": "code",
   "execution_count": 9,
   "metadata": {},
   "outputs": [
    {
     "data": {
      "text/plain": [
       "39170"
      ]
     },
     "execution_count": 9,
     "metadata": {},
     "output_type": "execute_result"
    }
   ],
   "source": [
    "#calculate Total Students\n",
    "Total_Students = Student_data[\"Student ID\"].count()\n",
    "Total_Students"
   ]
  },
  {
   "cell_type": "code",
   "execution_count": 10,
   "metadata": {},
   "outputs": [
    {
     "data": {
      "text/plain": [
       "15"
      ]
     },
     "execution_count": 10,
     "metadata": {},
     "output_type": "execute_result"
    }
   ],
   "source": [
    "#calculate Total Schools\n",
    "Total_Schools = School_data[\"School ID\"].count()\n",
    "Total_Schools"
   ]
  },
  {
   "cell_type": "code",
   "execution_count": 11,
   "metadata": {},
   "outputs": [
    {
     "data": {
      "text/plain": [
       "24649428"
      ]
     },
     "execution_count": 11,
     "metadata": {},
     "output_type": "execute_result"
    }
   ],
   "source": [
    "#Calculate Total Budget\n",
    "Total_budget = School_data[\"budget\"].sum()\n",
    "Total_budget"
   ]
  },
  {
   "cell_type": "code",
   "execution_count": 12,
   "metadata": {},
   "outputs": [
    {
     "data": {
      "text/plain": [
       "78.98537145774827"
      ]
     },
     "execution_count": 12,
     "metadata": {},
     "output_type": "execute_result"
    }
   ],
   "source": [
    "#Calculate Average Math Score\n",
    "Average_m_score = Student_data[\"math_score\"].mean()\n",
    "Average_m_score"
   ]
  },
  {
   "cell_type": "code",
   "execution_count": 13,
   "metadata": {},
   "outputs": [
    {
     "data": {
      "text/plain": [
       "81.87784018381414"
      ]
     },
     "execution_count": 13,
     "metadata": {},
     "output_type": "execute_result"
    }
   ],
   "source": [
    "#Calculate Average Read Score\n",
    "Average_r_score = Student_data[\"reading_score\"].mean()\n",
    "Average_r_score"
   ]
  },
  {
   "cell_type": "code",
   "execution_count": 14,
   "metadata": {},
   "outputs": [
    {
     "data": {
      "text/plain": [
       "74.9808526933878"
      ]
     },
     "execution_count": 14,
     "metadata": {},
     "output_type": "execute_result"
    }
   ],
   "source": [
    "P_count=[]\n",
    "\n",
    "for row in Student_data[\"math_score\"]:\n",
    "    if row >= 70:\n",
    "        P_count.append([1])\n",
    "\n",
    "\n",
    "Passdm = P_count.count([1])\n",
    "math_perc = Passdm/Total_Students*100\n",
    "math_perc"
   ]
  },
  {
   "cell_type": "code",
   "execution_count": 15,
   "metadata": {},
   "outputs": [
    {
     "data": {
      "text/plain": [
       "85.80546336482001"
      ]
     },
     "execution_count": 15,
     "metadata": {},
     "output_type": "execute_result"
    }
   ],
   "source": [
    "R_count=[]\n",
    "\n",
    "for row in Student_data[\"reading_score\"]:\n",
    "    if row >= 70:\n",
    "        R_count.append([1])\n",
    "\n",
    "\n",
    "Passdr = R_count.count([1])\n",
    "read_perc = Passdr/Total_Students*100\n",
    "read_perc"
   ]
  },
  {
   "cell_type": "code",
   "execution_count": 16,
   "metadata": {},
   "outputs": [
    {
     "data": {
      "text/plain": [
       "80.43160582078121"
      ]
     },
     "execution_count": 16,
     "metadata": {},
     "output_type": "execute_result"
    }
   ],
   "source": [
    "Over_score = float((Average_m_score + Average_r_score)/2)\n",
    "Over_score"
   ]
  },
  {
   "cell_type": "code",
   "execution_count": 18,
   "metadata": {},
   "outputs": [
    {
     "data": {
      "text/html": [
       "<div>\n",
       "<style scoped>\n",
       "    .dataframe tbody tr th:only-of-type {\n",
       "        vertical-align: middle;\n",
       "    }\n",
       "\n",
       "    .dataframe tbody tr th {\n",
       "        vertical-align: top;\n",
       "    }\n",
       "\n",
       "    .dataframe thead th {\n",
       "        text-align: right;\n",
       "    }\n",
       "</style>\n",
       "<table border=\"1\" class=\"dataframe\">\n",
       "  <thead>\n",
       "    <tr style=\"text-align: right;\">\n",
       "      <th></th>\n",
       "      <th>Total Schools</th>\n",
       "      <th>Total Students</th>\n",
       "      <th>Total Budget</th>\n",
       "      <th>Ave Math Score</th>\n",
       "      <th>Ave Reading Score</th>\n",
       "      <th>% Passing Math</th>\n",
       "      <th>% Passing Reading</th>\n",
       "      <th>Overall passing</th>\n",
       "    </tr>\n",
       "  </thead>\n",
       "  <tbody>\n",
       "    <tr>\n",
       "      <th>0</th>\n",
       "      <td>15</td>\n",
       "      <td>39,170</td>\n",
       "      <td>$24,649,428</td>\n",
       "      <td>78.99</td>\n",
       "      <td>81.88</td>\n",
       "      <td>74.98%</td>\n",
       "      <td>85.81%</td>\n",
       "      <td>80.43%</td>\n",
       "    </tr>\n",
       "  </tbody>\n",
       "</table>\n",
       "</div>"
      ],
      "text/plain": [
       "   Total Schools Total Students Total Budget Ave Math Score Ave Reading Score  \\\n",
       "0             15         39,170  $24,649,428          78.99             81.88   \n",
       "\n",
       "  % Passing Math % Passing Reading Overall passing  \n",
       "0         74.98%            85.81%          80.43%  "
      ]
     },
     "execution_count": 18,
     "metadata": {},
     "output_type": "execute_result"
    }
   ],
   "source": [
    "#Final Statiscit Summary\n",
    "District_Summary = pd.DataFrame({\"Total Schools\": [Total_Schools],\n",
    "                                \"Total Students\": [Total_Students],\n",
    "                                \"Total Budget\": [Total_budget],\n",
    "                                \"Ave Math Score\": [Average_m_score],\n",
    "                                \"Ave Reading Score\": [Average_r_score],\n",
    "                                \"% Passing Math\": [math_perc],\n",
    "                                \"% Passing Reading\": [read_perc],\n",
    "                                \"Overall passing\": [Over_score]})\n",
    "\n",
    "District_Summary[\"Total Budget\"] = District_Summary[\"Total Budget\"].astype(float).map(\"${:,.0f}\".format)\n",
    "District_Summary[\"Total Students\"] = District_Summary[\"Total Students\"].astype(float).map(\"{:,.0f}\".format)\n",
    "District_Summary[\"Ave Math Score\"] = District_Summary[\"Ave Math Score\"].astype(float).map(\"{:,.2f}\".format)\n",
    "District_Summary[\"Ave Reading Score\"] = District_Summary[\"Ave Reading Score\"].astype(float).map(\"{:,.2f}\".format)\n",
    "District_Summary[\"% Passing Math\"] = District_Summary[\"% Passing Math\"].astype(float).map(\"{:,.2f}%\".format)\n",
    "District_Summary[\"% Passing Reading\"] = District_Summary[\"% Passing Reading\"].astype(float).map(\"{:,.2f}%\".format)\n",
    "District_Summary[\"Overall passing\"] = District_Summary[\"Overall passing\"].astype(float).map(\"{:,.2f}%\".format)\n",
    "\n",
    "\n",
    "District_Summary"
   ]
  },
  {
   "cell_type": "code",
   "execution_count": 20,
   "metadata": {},
   "outputs": [],
   "source": [
    "District_Summary.to_csv(\"District_Summary.csv\")"
   ]
  },
  {
   "cell_type": "code",
   "execution_count": 68,
   "metadata": {},
   "outputs": [
    {
     "data": {
      "text/plain": [
       "<pandas.core.groupby.generic.DataFrameGroupBy object at 0x000001AE2402FB38>"
      ]
     },
     "execution_count": 68,
     "metadata": {},
     "output_type": "execute_result"
    }
   ],
   "source": [
    "School_Summary = School_data.groupby([\"school_name\"])\n",
    "School_Summary\n"
   ]
  },
  {
   "cell_type": "code",
   "execution_count": null,
   "metadata": {},
   "outputs": [],
   "source": [
    "\n"
   ]
  },
  {
   "cell_type": "code",
   "execution_count": null,
   "metadata": {},
   "outputs": [],
   "source": []
  }
 ],
 "metadata": {
  "kernelspec": {
   "display_name": "Python [conda env:PythonData] *",
   "language": "python",
   "name": "conda-env-PythonData-py"
  },
  "language_info": {
   "codemirror_mode": {
    "name": "ipython",
    "version": 3
   },
   "file_extension": ".py",
   "mimetype": "text/x-python",
   "name": "python",
   "nbconvert_exporter": "python",
   "pygments_lexer": "ipython3",
   "version": "3.6.8"
  }
 },
 "nbformat": 4,
 "nbformat_minor": 2
}
